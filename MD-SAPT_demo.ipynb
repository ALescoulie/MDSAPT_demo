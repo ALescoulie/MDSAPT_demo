{
 "cells": [
  {
   "cell_type": "markdown",
   "metadata": {},
   "source": [
    "# MD-SAPT: Python Based Toolkit for Running Symmetry Adapted Perturbation Theory Calculations of Molecular Dynamics Trajectories\n",
    "### Alia Lescoulie, Astrid Yu, and Ashley Ringer McDonald\n",
    "\n",
    "This Jupyter notebook demonstrates the MD-SAPT interactive user experience, showing the whole process for an example polypeptide from input to analysis."
   ]
  },
  {
   "cell_type": "code",
   "execution_count": 1,
   "metadata": {},
   "outputs": [
    {
     "name": "stderr",
     "output_type": "stream",
     "text": [
      "/home/astrid/anaconda3/envs/demo/lib/python3.9/site-packages/MDAnalysis/coordinates/chemfiles.py:108: DeprecationWarning: distutils Version classes are deprecated. Use packaging.version instead.\n",
      "  MIN_CHEMFILES_VERSION = LooseVersion(\"0.9\")\n",
      "/home/astrid/anaconda3/envs/demo/lib/python3.9/site-packages/MDAnalysis/coordinates/TRJ.py:1209: DeprecationWarning: Please use `netcdf_file` from the `scipy.io` namespace, the `scipy.io.netcdf` namespace is deprecated.\n",
      "  class NCDFPicklable(scipy.io.netcdf.netcdf_file):\n"
     ]
    },
    {
     "data": {
      "application/vnd.jupyter.widget-view+json": {
       "model_id": "8ec06c4dff364f69839c5f5fbaa50b27",
       "version_major": 2,
       "version_minor": 0
      },
      "text/plain": []
     },
     "metadata": {},
     "output_type": "display_data"
    },
    {
     "name": "stderr",
     "output_type": "stream",
     "text": [
      "2022-02-08 22:45:06,906 mdsapt       INFO     MDSAPT 1.0.0+12.ga7340bc starting\n",
      "2022-02-08 22:45:06,907 mdsapt       INFO     Copyright (c) 2021 Alia Lescoulie, Astrid Yu, and Ashley Ringer McDonald\n",
      "2022-02-08 22:45:06,908 mdsapt       INFO     Released under GPLv3 License\n"
     ]
    }
   ],
   "source": [
    "# Ignore warnings.\n",
    "import warnings\n",
    "warnings.filterwarnings('ignore')\n",
    "\n",
    "import mdsapt"
   ]
  },
  {
   "cell_type": "markdown",
   "metadata": {},
   "source": [
    "## Step 1: Input file\n",
    "\n",
    "MD-SAPT uses YAML a type of plain text file to pass input setting into the code. Below is a copy of the input file uses in this demo. The input file contains all the information needed to run the SAPT calculations on the trajectory including: paths to the MD data, the residues of interest, the frames to run, and the computing recourses requested. Below is the input used in this notebook. Blank inputs are generated using the `mdsapt-get-input.py` script as shown in the code block.\n",
    "\n",
    "```bash\n",
    "python mdsapt-get-input.py input.yaml\n",
    "```\n",
    "\n",
    "Afterwards the input file is filled out with the needed information.\n",
    "\n",
    "```YAML\n",
    "topology_path: 'testtop.psf'\n",
    "trajectory_paths:\n",
    "  - 'testtraj.dcd'\n",
    "selection_resid_num:\n",
    "  - 11\n",
    "  - 199\n",
    "int_pairs:\n",
    "  # Place pair of  selections defined above in a list of lists\n",
    "  - [11, 199]\n",
    "trajectory_settings:\n",
    "  start: 78\n",
    "  stop: 98\n",
    "  step: 1\n",
    "system_settings:\n",
    "  ncpus: '12'\n",
    "  memory: '12GB'\n",
    "  time: '24:00:00'\n",
    "opt_settings:\n",
    "  pH: 7\n",
    "sapt_settings:\n",
    "  method: 'sapt0'\n",
    "  basis: 'jun-cc-pvdz'\n",
    "  settings:\n",
    "    reference: 'rhf'\n",
    "  save_psi4_output: true\n",
    "```\n",
    "\n",
    "In python the input file is given to the **InputReader** which checks its validity and stores the information as variables."
   ]
  },
  {
   "cell_type": "code",
   "execution_count": 2,
   "metadata": {},
   "outputs": [
    {
     "name": "stderr",
     "output_type": "stream",
     "text": [
      "2022-02-08 22:45:07,151 mdsapt.reader INFO     Input Parameters Accepted\n"
     ]
    }
   ],
   "source": [
    "In = mdsapt.InputReader('input.yaml')"
   ]
  },
  {
   "cell_type": "markdown",
   "metadata": {},
   "source": [
    "**InputReader** also checks the input file for errors and give the location of issues in the input file. For example if the stop frame selected in the input file exceeds the trajectory length MD-SAPT notifies you with an error message before starting the SAPT calculation and wasting cluster time.\n",
    "\n",
    "```YAML\n",
    "trajectory_settings:\n",
    "  start: 78\n",
    "  stop: 120\n",
    "  step: 1trajectory_settings:\n",
    "```"
   ]
  },
  {
   "cell_type": "code",
   "execution_count": 3,
   "metadata": {
    "tags": [
     "raises-exception"
    ]
   },
   "outputs": [
    {
     "name": "stderr",
     "output_type": "stream",
     "text": [
      "2022-02-08 22:45:07,444 mdsapt.reader CRITICAL Stop exceeds length of trajectory.\n"
     ]
    },
    {
     "ename": "InputError",
     "evalue": "",
     "output_type": "error",
     "traceback": [
      "\u001b[0;31m---------------------------------------------------------------------------\u001b[0m",
      "\u001b[0;31mInputError\u001b[0m                                Traceback (most recent call last)",
      "\u001b[0;32m/tmp/ipykernel_26675/3522568641.py\u001b[0m in \u001b[0;36m<module>\u001b[0;34m\u001b[0m\n\u001b[0;32m----> 1\u001b[0;31m \u001b[0mIn2\u001b[0m \u001b[0;34m=\u001b[0m \u001b[0mmdsapt\u001b[0m\u001b[0;34m.\u001b[0m\u001b[0mInputReader\u001b[0m\u001b[0;34m(\u001b[0m\u001b[0;34m'error_input.yaml'\u001b[0m\u001b[0;34m)\u001b[0m\u001b[0;34m\u001b[0m\u001b[0;34m\u001b[0m\u001b[0m\n\u001b[0m",
      "\u001b[0;32m~/anaconda3/envs/demo/lib/python3.9/site-packages/mdsapt/reader.py\u001b[0m in \u001b[0;36m__init__\u001b[0;34m(self, path)\u001b[0m\n\u001b[1;32m     60\u001b[0m          \u001b[0;34m:\u001b[0m\u001b[0;32mclass\u001b[0m\u001b[0;31m`\u001b[0m\u001b[0mmdsapt\u001b[0m\u001b[0;34m.\u001b[0m\u001b[0mreader\u001b[0m\u001b[0;34m.\u001b[0m\u001b[0mInputError\u001b[0m\u001b[0;31m`\u001b[0m \u001b[0mbeing\u001b[0m\u001b[0;34m\u001b[0m\u001b[0;34m\u001b[0m\u001b[0m\n\u001b[1;32m     61\u001b[0m          raised.\"\"\"\n\u001b[0;32m---> 62\u001b[0;31m         \u001b[0mself\u001b[0m\u001b[0;34m.\u001b[0m\u001b[0mload_input\u001b[0m\u001b[0;34m(\u001b[0m\u001b[0mpath\u001b[0m\u001b[0;34m)\u001b[0m\u001b[0;34m\u001b[0m\u001b[0;34m\u001b[0m\u001b[0m\n\u001b[0m\u001b[1;32m     63\u001b[0m \u001b[0;34m\u001b[0m\u001b[0m\n\u001b[1;32m     64\u001b[0m     \u001b[0;32mdef\u001b[0m \u001b[0mload_input\u001b[0m\u001b[0;34m(\u001b[0m\u001b[0mself\u001b[0m\u001b[0;34m,\u001b[0m \u001b[0mpath\u001b[0m\u001b[0;34m:\u001b[0m \u001b[0mstr\u001b[0m\u001b[0;34m)\u001b[0m \u001b[0;34m->\u001b[0m \u001b[0;32mNone\u001b[0m\u001b[0;34m:\u001b[0m\u001b[0;34m\u001b[0m\u001b[0;34m\u001b[0m\u001b[0m\n",
      "\u001b[0;32m~/anaconda3/envs/demo/lib/python3.9/site-packages/mdsapt/reader.py\u001b[0m in \u001b[0;36mload_input\u001b[0;34m(self, path)\u001b[0m\n\u001b[1;32m     72\u001b[0m         \u001b[0;32mtry\u001b[0m\u001b[0;34m:\u001b[0m\u001b[0;34m\u001b[0m\u001b[0;34m\u001b[0m\u001b[0m\n\u001b[1;32m     73\u001b[0m             \u001b[0min_cfg\u001b[0m \u001b[0;34m=\u001b[0m \u001b[0myaml\u001b[0m\u001b[0;34m.\u001b[0m\u001b[0msafe_load\u001b[0m\u001b[0;34m(\u001b[0m\u001b[0mopen\u001b[0m\u001b[0;34m(\u001b[0m\u001b[0mpath\u001b[0m\u001b[0;34m)\u001b[0m\u001b[0;34m)\u001b[0m\u001b[0;34m\u001b[0m\u001b[0;34m\u001b[0m\u001b[0m\n\u001b[0;32m---> 74\u001b[0;31m             \u001b[0mself\u001b[0m\u001b[0;34m.\u001b[0m\u001b[0m_check_inputs\u001b[0m\u001b[0;34m(\u001b[0m\u001b[0min_cfg\u001b[0m\u001b[0;34m)\u001b[0m\u001b[0;34m\u001b[0m\u001b[0;34m\u001b[0m\u001b[0m\n\u001b[0m\u001b[1;32m     75\u001b[0m             \u001b[0mself\u001b[0m\u001b[0;34m.\u001b[0m\u001b[0m_save_params\u001b[0m\u001b[0;34m(\u001b[0m\u001b[0min_cfg\u001b[0m\u001b[0;34m)\u001b[0m\u001b[0;34m\u001b[0m\u001b[0;34m\u001b[0m\u001b[0m\n\u001b[1;32m     76\u001b[0m         \u001b[0;32mexcept\u001b[0m \u001b[0mIOError\u001b[0m \u001b[0;32mor\u001b[0m \u001b[0mInputError\u001b[0m\u001b[0;34m:\u001b[0m\u001b[0;34m\u001b[0m\u001b[0;34m\u001b[0m\u001b[0m\n",
      "\u001b[0;32m~/anaconda3/envs/demo/lib/python3.9/site-packages/mdsapt/reader.py\u001b[0m in \u001b[0;36m_check_inputs\u001b[0;34m(yaml_dict)\u001b[0m\n\u001b[1;32m    180\u001b[0m             \u001b[0;32mif\u001b[0m \u001b[0mlen\u001b[0m\u001b[0;34m(\u001b[0m\u001b[0munv\u001b[0m\u001b[0;34m.\u001b[0m\u001b[0mtrajectory\u001b[0m\u001b[0;34m)\u001b[0m \u001b[0;34m<\u001b[0m \u001b[0mstop\u001b[0m\u001b[0;34m:\u001b[0m\u001b[0;34m\u001b[0m\u001b[0;34m\u001b[0m\u001b[0m\n\u001b[1;32m    181\u001b[0m                 \u001b[0mlogger\u001b[0m\u001b[0;34m.\u001b[0m\u001b[0mfatal\u001b[0m\u001b[0;34m(\u001b[0m\u001b[0;34m'Stop exceeds length of trajectory.'\u001b[0m\u001b[0;34m)\u001b[0m\u001b[0;34m\u001b[0m\u001b[0;34m\u001b[0m\u001b[0m\n\u001b[0;32m--> 182\u001b[0;31m                 \u001b[0;32mraise\u001b[0m \u001b[0mInputError\u001b[0m\u001b[0;34m\u001b[0m\u001b[0;34m\u001b[0m\u001b[0m\n\u001b[0m\u001b[1;32m    183\u001b[0m \u001b[0;34m\u001b[0m\u001b[0m\n\u001b[1;32m    184\u001b[0m         \u001b[0mlogger\u001b[0m\u001b[0;34m.\u001b[0m\u001b[0minfo\u001b[0m\u001b[0;34m(\u001b[0m\u001b[0;34m'Input Parameters Accepted'\u001b[0m\u001b[0;34m)\u001b[0m\u001b[0;34m\u001b[0m\u001b[0;34m\u001b[0m\u001b[0m\n",
      "\u001b[0;31mInputError\u001b[0m: "
     ]
    }
   ],
   "source": [
    "In2 = mdsapt.InputReader('error_input.yaml')"
   ]
  },
  {
   "cell_type": "markdown",
   "metadata": {},
   "source": [
    "## Step 2: Preparing Residues\n",
    "\n",
    "Residues when pulled initially from a trajectory are not able to immediatly be thrown into SAPT calcuations. They have missing protons and unpaired electrons resulting splitting the bonds forming the protein backbone. This is fixed by the **Optimizer** object in MD-SAPT. **Optimizer**, when initialized is passed **InputReader** which give it the user information."
   ]
  },
  {
   "cell_type": "code",
   "execution_count": 4,
   "metadata": {},
   "outputs": [],
   "source": [
    "Opt = mdsapt.Optimizer(In)"
   ]
  },
  {
   "cell_type": "markdown",
   "metadata": {},
   "source": [
    "Residues undergo two steps in optimization, replacing amino protons, and adding a new bond on the C terminus. MD-SAPT's **Viewer** can give a continent before and after."
   ]
  },
  {
   "cell_type": "code",
   "execution_count": 5,
   "metadata": {},
   "outputs": [
    {
     "data": {
      "application/vnd.jupyter.widget-view+json": {
       "model_id": "5846e9d0b08d4cf396fa2ef9e8bd3597",
       "version_major": 2,
       "version_minor": 0
      },
      "text/plain": [
       "NGLWidget(max_frame=97)"
      ]
     },
     "metadata": {},
     "output_type": "display_data"
    }
   ],
   "source": [
    "View = mdsapt.Viewer(In)\n",
    "\n",
    "# Residue before optimization\n",
    "View.view_residue(11)"
   ]
  },
  {
   "cell_type": "code",
   "execution_count": 6,
   "metadata": {},
   "outputs": [
    {
     "data": {
      "application/vnd.jupyter.widget-view+json": {
       "model_id": "9da12a8229e54eacbf04cff22e25cd4a",
       "version_major": 2,
       "version_minor": 0
      },
      "text/plain": [
       "NGLWidget()"
      ]
     },
     "metadata": {},
     "output_type": "display_data"
    }
   ],
   "source": [
    "# Residue after optimization\n",
    "View.view_optimized_residue(11)"
   ]
  },
  {
   "cell_type": "markdown",
   "metadata": {},
   "source": [
    "Viewer also enables users to visualize the whole polypeptide as well as the interaction pairs specified in the input file."
   ]
  },
  {
   "cell_type": "code",
   "execution_count": 7,
   "metadata": {},
   "outputs": [
    {
     "data": {
      "application/vnd.jupyter.widget-view+json": {
       "model_id": "41ff50399f1a4e9dab66ea5309c776f8",
       "version_major": 2,
       "version_minor": 0
      },
      "text/plain": [
       "NGLWidget(max_frame=97)"
      ]
     },
     "metadata": {},
     "output_type": "display_data"
    }
   ],
   "source": [
    "View.view_system()"
   ]
  },
  {
   "cell_type": "code",
   "execution_count": 8,
   "metadata": {},
   "outputs": [
    {
     "data": {
      "application/vnd.jupyter.widget-view+json": {
       "model_id": "acc78feab9a54f0b88c371c67da83c4d",
       "version_major": 2,
       "version_minor": 0
      },
      "text/plain": [
       "NGLWidget()"
      ]
     },
     "metadata": {},
     "output_type": "display_data"
    }
   ],
   "source": [
    "View.view_optimized_interaction_pair(11, 199)"
   ]
  }
 ],
 "metadata": {
  "interpreter": {
   "hash": "1fd2dbffc864c39d01d1f8d6d080b38d818df5b1adb197469d003b261d517536"
  },
  "kernelspec": {
   "display_name": "Python 3 (ipykernel)",
   "language": "python",
   "name": "python3"
  },
  "language_info": {
   "codemirror_mode": {
    "name": "ipython",
    "version": 3
   },
   "file_extension": ".py",
   "mimetype": "text/x-python",
   "name": "python",
   "nbconvert_exporter": "python",
   "pygments_lexer": "ipython3",
   "version": "3.9.10"
  }
 },
 "nbformat": 4,
 "nbformat_minor": 2
}
