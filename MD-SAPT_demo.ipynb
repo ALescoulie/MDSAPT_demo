{
 "cells": [
  {
   "cell_type": "markdown",
   "metadata": {},
   "source": [
    "## MD-SAPT: Python Based Toolkit for Running Symmetry Adapted Perturbation Theory Calculations of Molecular Dynamics Trajectories\n",
    "### Alia Lescoulie, Astrid Yu, and Ashley Ringer McDonald\n",
    "\n",
    "This Jupyter notebook demonstrates the MD-SAPT interactive user experience. It demonstrates the whole process for an example polypeptide from input to analysis."
   ]
  },
  {
   "cell_type": "code",
   "execution_count": 1,
   "metadata": {},
   "outputs": [
    {
     "name": "stderr",
     "output_type": "stream",
     "text": [
      "/home/alia/.conda/envs/mdsapt/lib/python3.9/site-packages/MDAnalysis/coordinates/chemfiles.py:108: DeprecationWarning: distutils Version classes are deprecated. Use packaging.version instead.\n",
      "  MIN_CHEMFILES_VERSION = LooseVersion(\"0.9\")\n"
     ]
    },
    {
     "data": {
      "application/vnd.jupyter.widget-view+json": {
       "model_id": "e236d6fd66c3482db77627a2a7ef615b",
       "version_major": 2,
       "version_minor": 0
      },
      "text/plain": []
     },
     "metadata": {},
     "output_type": "display_data"
    },
    {
     "name": "stderr",
     "output_type": "stream",
     "text": [
      "2022-01-20 12:49:57,791 mdsapt       INFO     MDSAPT full-release starting\n",
      "2022-01-20 12:49:57,792 mdsapt       INFO     Copyright (c) 2021 Alia Lescoulie, Astrid Yu, and Ashley Ringer McDonald\n",
      "2022-01-20 12:49:57,793 mdsapt       INFO     Released under MIT Licence\n"
     ]
    }
   ],
   "source": [
    "import mdsapt"
   ]
  },
  {
   "cell_type": "markdown",
   "metadata": {},
   "source": [
    "## Step 1: Input file\n",
    "\n",
    "MD-SAPT uses YAML a type of plain text file to pass input setting into the code. Below is a copy of the input file uses in this demo. The input file contains all the information needed to run the SAPT calculations on the trajectory including: paths to the MD data, the residues of interest, the frames to run, and the computing recourses requested. Below is the input used in this notebook. Blank inputs are generated using the `mdsapt-get-input.py` script as shown in the code block. In python the input file is given to the **InputReader** which checks its validity and stores the information as variables.\n",
    "\n",
    "```bash\n",
    "python mdsapt-get-input.py \n",
    "```"
   ]
  },
  {
   "cell_type": "markdown",
   "metadata": {},
   "source": [
    "```YAML\n",
    "topology_path: testtop.psf\n",
    "trajectory_paths:\n",
    "  - testtraj.dcd\n",
    "selection_resid_num:\n",
    "  - 11\n",
    "  - 199\n",
    "int_pairs:\n",
    "  # Place pair of  selections defined above in a list of lists\n",
    "  - [11, 199]\n",
    "trajectory_settings:\n",
    "  start: 78\n",
    "  stop: 98\n",
    "  step: 1\n",
    "system_settings:\n",
    "  ncpus: 12\n",
    "  memory: 12GB\n",
    "  time: '24:00:00'\n",
    "opt_settings:\n",
    "  pH: 7\n",
    "sapt_settings:\n",
    "  method: 'sapt0'\n",
    "  basis: 'jun-cc-pvdz'\n",
    "  settings:\n",
    "    reference: 'rhf'\n",
    "  save_psi4_output: true\n",
    "```"
   ]
  },
  {
   "cell_type": "code",
   "execution_count": null,
   "metadata": {},
   "outputs": [],
   "source": []
  }
 ],
 "metadata": {
  "interpreter": {
   "hash": "1fd2dbffc864c39d01d1f8d6d080b38d818df5b1adb197469d003b261d517536"
  },
  "kernelspec": {
   "display_name": "Python 3.9.9 64-bit ('mdsapt': conda)",
   "language": "python",
   "name": "python3"
  },
  "language_info": {
   "codemirror_mode": {
    "name": "ipython",
    "version": 3
   },
   "file_extension": ".py",
   "mimetype": "text/x-python",
   "name": "python",
   "nbconvert_exporter": "python",
   "pygments_lexer": "ipython3",
   "version": "3.9.9"
  },
  "orig_nbformat": 4
 },
 "nbformat": 4,
 "nbformat_minor": 2
}
